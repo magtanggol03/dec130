{
 "cells": [
  {
   "cell_type": "code",
   "execution_count": 2,
   "metadata": {},
   "outputs": [],
   "source": [
    "import statsmodels.api as sm\n",
    "import pandas as pd"
   ]
  },
  {
   "cell_type": "code",
   "execution_count": 4,
   "metadata": {},
   "outputs": [],
   "source": [
    "indicators = pd.read_csv('https://raw.githubusercontent.com/magtanggol03/dec130/master/datasets/compiled_indicators.csv')"
   ]
  },
  {
   "cell_type": "code",
   "execution_count": 7,
   "metadata": {},
   "outputs": [
    {
     "data": {
      "text/plain": [
       "array(['Firms with female participation in ownership (% of firms)',\n",
       "       'School enrollment, primary and secondary (gross), gender parity index (GPI)',\n",
       "       'Progression to secondary school, female (%)',\n",
       "       'Labor force, female (% of total labor force)',\n",
       "       'Employment in services, female (% of female employment) (modeled ILO estimate)',\n",
       "       'Employment in industry, female (% of female employment) (modeled ILO estimate)',\n",
       "       'Literacy rate, adult female (% of females ages 15 and above)',\n",
       "       'Start-up procedures to register a business, female (number)',\n",
       "       'Persistence to last grade of primary, female (% of cohort)',\n",
       "       'Employment in agriculture, female (% of female employment) (modeled ILO estimate)',\n",
       "       'Firms with female top manager (% of firms)',\n",
       "       'School enrollment, primary (gross), gender parity index (GPI)',\n",
       "       'Repeaters, primary, female (% of female enrollment)',\n",
       "       'Time required to start a business, female (days)',\n",
       "       'Children out of school, primary, female',\n",
       "       'Contributing family workers, female (% of female employment) (modeled ILO estimate)',\n",
       "       'Wage and salaried workers, female (% of female employment) (modeled ILO estimate)',\n",
       "       'Prevalence of HIV, female (% ages 15-24)',\n",
       "       'Primary completion rate, female (% of relevant age group)',\n",
       "       'Unemployment, female (% of female labor force) (modeled ILO estimate)',\n",
       "       'Children in employment, female (% of female children ages 7-14)',\n",
       "       'Literacy rate, youth female (% of females ages 15-24)',\n",
       "       'Life expectancy at birth, female (years)'], dtype=object)"
      ]
     },
     "execution_count": 7,
     "metadata": {},
     "output_type": "execute_result"
    }
   ],
   "source": [
    "indicators['Indicator Name'].unique()"
   ]
  },
  {
   "cell_type": "code",
   "execution_count": null,
   "metadata": {},
   "outputs": [],
   "source": []
  }
 ],
 "metadata": {
  "kernelspec": {
   "display_name": "Python 3",
   "language": "python",
   "name": "python3"
  },
  "language_info": {
   "codemirror_mode": {
    "name": "ipython",
    "version": 3
   },
   "file_extension": ".py",
   "mimetype": "text/x-python",
   "name": "python",
   "nbconvert_exporter": "python",
   "pygments_lexer": "ipython3",
   "version": "3.6.4"
  }
 },
 "nbformat": 4,
 "nbformat_minor": 2
}
